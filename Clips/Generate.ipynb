{
 "cells": [
  {
   "cell_type": "markdown",
   "metadata": {
    "colab_type": "text",
    "id": "2x_fQKajmE49"
   },
   "source": [
    "### Importing Libraries"
   ]
  },
  {
   "cell_type": "code",
   "execution_count": 2,
   "metadata": {
    "colab": {},
    "colab_type": "code",
    "id": "rlJDS6uNXRz_"
   },
   "outputs": [],
   "source": [
    "import cv2\n",
    "import numpy as np\n",
    "import random"
   ]
  },
  {
   "cell_type": "markdown",
   "metadata": {
    "colab_type": "text",
    "id": "jcLPb5b_mLfn"
   },
   "source": [
    "### Defining constants which we will use throughout the rest of this notebook"
   ]
  },
  {
   "cell_type": "code",
   "execution_count": 13,
   "metadata": {
    "colab": {},
    "colab_type": "code",
    "id": "R3pZXTT9YV2Z"
   },
   "outputs": [],
   "source": [
    "''' The dimensions of any input frame '''\n",
    "FRAME_WIDTH = 320\n",
    "FRAME_HEIGHT = 240\n",
    "\n",
    "''' Dimensions of the various window frames used during prediction '''\n",
    "IMAGE_DIM = 50\n",
    "WINDOW_DIM = 80\n",
    "MODEL_OUTPUT_DIM = 76\n",
    "IMAGE_WINDOW_START = (WINDOW_DIM - IMAGE_DIM) // 2\n",
    "MODEL_WINDOW_START = (WINDOW_DIM - MODEL_OUTPUT_DIM) // 2\n",
    "IMAGE_MODEL_START = (MODEL_OUTPUT_DIM - IMAGE_DIM) // 2\n",
    "\n",
    "''' The threshold value which will dictate whether we use the technique of frame averaging or not '''\n",
    "AVERAGE_FRAME_DISTANCE_THRESHOLD_VALUE = 150\n",
    "\n",
    "''' Definition of important directories '''\n",
    "root_directory = '../'\n",
    "model_directory = root_directory + 'Model/'\n",
    "video_directory = root_directory + 'Clips/Test/'"
   ]
  },
  {
   "cell_type": "markdown",
   "metadata": {
    "colab_type": "text",
    "id": "A0GI0OiNm65x"
   },
   "source": [
    "### Load the model which will be used for prediction"
   ]
  },
  {
   "cell_type": "code",
   "execution_count": 5,
   "metadata": {
    "colab": {},
    "colab_type": "code",
    "id": "HFyNXrnGZgpl"
   },
   "outputs": [
    {
     "name": "stderr",
     "output_type": "stream",
     "text": [
      "Using TensorFlow backend.\n"
     ]
    }
   ],
   "source": [
    "json_file = open(model_directory + 'model80_76.json', 'r')\n",
    "loaded_model_json = json_file.read()\n",
    "json_file.close()\n",
    "\n",
    "from keras.models import model_from_json\n",
    "model = model_from_json(loaded_model_json)\n",
    "model.load_weights(model_directory + 'model80_76.h5')"
   ]
  },
  {
   "cell_type": "markdown",
   "metadata": {
    "colab_type": "text",
    "id": "u-Q5JjrOnFJK"
   },
   "source": [
    "### Define a family of functions which scale up the FPS of any video"
   ]
  },
  {
   "cell_type": "code",
   "execution_count": 6,
   "metadata": {
    "colab": {},
    "colab_type": "code",
    "id": "DPFwZloudkpw"
   },
   "outputs": [],
   "source": [
    "''' The function defined below essentially figures out whether to use the technique \n",
    "    of frame averaging for intermediate window generation or not \n",
    "'''\n",
    "def use_frame_averaging(frame1_window, frame2_window):\n",
    "    average_window = (frame1_window + frame2_window) // 2\n",
    "    frame1_window_average_window_dist = np.mean((frame1_window - average_window) ** 2)\n",
    "    frame2_window_average_window_dist = np.mean((frame2_window - average_window) ** 2)\n",
    "    if (frame1_window_average_window_dist < AVERAGE_FRAME_DISTANCE_THRESHOLD_VALUE and \n",
    "                frame2_window_average_window_dist < AVERAGE_FRAME_DISTANCE_THRESHOLD_VALUE):\n",
    "        return True\n",
    "    return False"
   ]
  },
  {
   "cell_type": "code",
   "execution_count": 7,
   "metadata": {
    "colab": {},
    "colab_type": "code",
    "id": "G9Yd3gwFawE6"
   },
   "outputs": [],
   "source": [
    "''' The function defined below computes an intermediate frame for a given pair of frames. \n",
    "    The intermediate frame is generated through composition of different intermediate windows, \n",
    "    obtained through averaging or model prediction. \n",
    "'''\n",
    "def insert_frame(frame1, frame2):\n",
    "    height, width = frame1.shape[0], frame1.shape[1]\n",
    "    pad_h = 0 if height % IMAGE_DIM == 0 else (-height) % IMAGE_DIM\n",
    "    pad_w = 0 if width % IMAGE_DIM == 0 else (-width) % IMAGE_DIM\n",
    "    frame1 = np.pad(frame1, ((IMAGE_WINDOW_START, IMAGE_WINDOW_START + pad_h), (IMAGE_WINDOW_START, IMAGE_WINDOW_START + pad_w), (0, 0)))\n",
    "    frame2 = np.pad(frame2, ((IMAGE_WINDOW_START, IMAGE_WINDOW_START + pad_h), (IMAGE_WINDOW_START, IMAGE_WINDOW_START + pad_w), (0, 0)))\n",
    "\n",
    "    new_frame = np.zeros(frame1.shape)\n",
    "    prediction_queue_ids = []\n",
    "    prediction_queue_frames = []\n",
    "    for i in range(IMAGE_WINDOW_START, IMAGE_WINDOW_START + height + pad_h, IMAGE_DIM):\n",
    "        for j in range(IMAGE_WINDOW_START, IMAGE_WINDOW_START + width + pad_w, IMAGE_DIM):\n",
    "            frame1_window = frame1[i:i + IMAGE_DIM, j:j + IMAGE_DIM, :]\n",
    "            frame2_window = frame2[i:i + IMAGE_DIM, j:j + IMAGE_DIM, :]\n",
    "            if (use_frame_averaging(frame1_window, frame2_window)):\n",
    "                window_pred = (frame1_window + frame2_window) // 2\n",
    "                new_frame[i:i + IMAGE_DIM, j:j + IMAGE_DIM, :] = window_pred\n",
    "            else:\n",
    "                window = np.zeros((WINDOW_DIM, WINDOW_DIM, 6))\n",
    "                window[:, :, 0:3] = frame1[(i - IMAGE_WINDOW_START):(i + IMAGE_DIM + IMAGE_WINDOW_START),\n",
    "                                        (j - IMAGE_WINDOW_START):(j + IMAGE_DIM + IMAGE_WINDOW_START), :]\n",
    "                window[:, :, 3:6] = frame2[(i - IMAGE_WINDOW_START):(i + IMAGE_DIM + IMAGE_WINDOW_START),\n",
    "                                        (j - IMAGE_WINDOW_START):(j + IMAGE_DIM + IMAGE_WINDOW_START), :]\n",
    "                prediction_queue_ids.append((i, j))\n",
    "                prediction_queue_frames.append(window)\n",
    "    \n",
    "    if(len(prediction_queue_ids) > 0):\n",
    "        predicted_queue = model.predict(np.array(prediction_queue_frames, dtype=np.float32))\n",
    "        for idx in range(len(prediction_queue_ids)):\n",
    "            prediction = predicted_queue[idx, IMAGE_MODEL_START:MODEL_OUTPUT_DIM - IMAGE_MODEL_START, \n",
    "                                            IMAGE_MODEL_START:MODEL_OUTPUT_DIM - IMAGE_MODEL_START, :]\n",
    "            prediction = np.maximum(0, prediction)\n",
    "            prediction = np.minimum(255, prediction)\n",
    "            i, j = prediction_queue_ids[idx]\n",
    "            new_frame[i:i + IMAGE_DIM, j:j + IMAGE_DIM, :] = prediction\n",
    "\n",
    "    return new_frame[IMAGE_WINDOW_START:IMAGE_WINDOW_START + height, IMAGE_WINDOW_START:IMAGE_WINDOW_START + width, :]"
   ]
  },
  {
   "cell_type": "code",
   "execution_count": 8,
   "metadata": {
    "colab": {},
    "colab_type": "code",
    "id": "crvKQkZ2n7Ly"
   },
   "outputs": [],
   "source": [
    "''' The following function inserts multiple frames between a pair of frames, by using \n",
    "    a divide and conquer approach.\n",
    "'''\n",
    "def insert_frames_recursively(first_frame, last_frame, frame_count):\n",
    "    if frame_count <= 0:\n",
    "        return []\n",
    "    else:\n",
    "        mid = (frame_count - 1) // 2\n",
    "        mid_frame = insert_frame(first_frame, last_frame)\n",
    "        frames = insert_frames_recursively(first_frame, mid_frame, mid)\n",
    "        frames.append(mid_frame)\n",
    "        frames.extend(insert_frames_recursively(mid_frame, last_frame, frame_count - 1 - mid))\n",
    "        return frames"
   ]
  },
  {
   "cell_type": "code",
   "execution_count": 12,
   "metadata": {
    "colab": {},
    "colab_type": "code",
    "id": "5vr1EirYkBju"
   },
   "outputs": [],
   "source": [
    "''' The following function scales up the FPS of any video by a given factor, by \n",
    "    leveraging the functions we defined above \n",
    "'''\n",
    "def sample_up_fps(path, factor):\n",
    "    assert type(factor) == type(0) and factor > 1\n",
    "    video = cv2.VideoCapture(path)\n",
    "    out = cv2.VideoWriter(root_directory + 'Clips/Generated/clip_u.avi', cv2.VideoWriter_fourcc('M', 'J', 'P', 'G'),\n",
    "            video.get(cv2.CAP_PROP_FPS) * factor, (320, 240))\n",
    "    count = 0\n",
    "    last_frame = None\n",
    "    while video.isOpened():\n",
    "        ret, frame = video.read()\n",
    "        if ret:\n",
    "            count += 1\n",
    "            if (count % 2 == 0):\n",
    "                print(count)\n",
    "            if type(last_frame) == type(None):\n",
    "                out.write(frame)\n",
    "                last_frame = frame\n",
    "            else:\n",
    "                frames = insert_frames_recursively(np.array(cv2.resize(last_frame, (FRAME_WIDTH, FRAME_HEIGHT)), dtype=np.uint64), \n",
    "                                np.array(cv2.resize(frame, (FRAME_WIDTH, FRAME_HEIGHT)), dtype=np.uint64), factor - 1)\n",
    "                for new_frame in frames:\n",
    "                    out.write(np.array(new_frame, dtype=np.uint8))\n",
    "                out.write(frame)\n",
    "                last_frame = frame\n",
    "        else:\n",
    "            break\n",
    "\n",
    "    video.release()\n",
    "    cv2.destroyAllWindows()"
   ]
  },
  {
   "cell_type": "markdown",
   "metadata": {
    "colab_type": "text",
    "id": "QGQdZ30nnP9O"
   },
   "source": [
    "### Define a family of functions which scale down the FPS of any video "
   ]
  },
  {
   "cell_type": "code",
   "execution_count": null,
   "metadata": {
    "colab": {},
    "colab_type": "code",
    "id": "ZzCP8j7BaWKO"
   },
   "outputs": [],
   "source": [
    "''' The following function retreives the dimensions of any given video '''\n",
    "def get_dims(video):\n",
    "    return (int(video.get(cv2.CAP_PROP_FRAME_WIDTH)), int(video.get(cv2.CAP_PROP_FRAME_HEIGHT)))"
   ]
  },
  {
   "cell_type": "code",
   "execution_count": null,
   "metadata": {
    "colab": {},
    "colab_type": "code",
    "id": "IfQ6fNmRlMFG"
   },
   "outputs": [],
   "source": [
    "''' The following function retreives the effective FPS for a video which is to be sampled down '''\n",
    "def get_reduced_fps(video, reduction_factor):\n",
    "    org_frames_count = video.get(cv2.CAP_PROP_FRAME_COUNT)\n",
    "    org_fps = video.get(cv2.CAP_PROP_FPS)\n",
    "    duration = org_frames_count / org_fps\n",
    "    new_frames_count = org_frames_count * reduction_factor\n",
    "    new_fps = new_frames_count / duration\n",
    "    return new_fps"
   ]
  },
  {
   "cell_type": "code",
   "execution_count": null,
   "metadata": {
    "colab": {},
    "colab_type": "code",
    "id": "vwmVpGu-aa-H"
   },
   "outputs": [],
   "source": [
    "''' The following function samples down the FPS of any video by a given factor '''\n",
    "def sample_down_fps(path, factor):\n",
    "    assert factor > 0 and factor <= 1\n",
    "    video = cv2.VideoCapture(path)\n",
    "    new_fps = get_reduced_fps(video, factor)\n",
    "    out = cv2.VideoWriter(video_directory + 'Generated/clip_d.mp4', cv2.VideoWriter_fourcc('M', 'J', 'P', 'G'), \n",
    "            new_fps, (FRAME_WIDTH, FRAME_HEIGHT))\n",
    "    count = 0\n",
    "    total_frames = 0\n",
    "    last_frame = None\n",
    "    while (video.isOpened()):\n",
    "        ret, frame = video.read()\n",
    "        if ret == True:\n",
    "            count += 1\n",
    "            if count % (1 / factor) < 1:\n",
    "                if (count % (1 / factor) > 0.5 and type(last_frame) != type(None)):\n",
    "                    out.write(cv2.resize(last_frame, (FRAME_WIDTH, FRAME_HEIGHT)))\n",
    "                else:\n",
    "                    out.write(cv2.resize(frame, (FRAME_WIDTH, FRAME_HEIGHT)))\n",
    "                total_frames += 1\n",
    "            last_frame = frame\n",
    "        else:\n",
    "            break\n",
    "    \n",
    "    print('FPS downscaled by a factor of', round(total_frames / video.get(cv2.CAP_PROP_FRAME_COUNT), 4))\n",
    "    video.release()\n",
    "    cv2.destroyAllWindows()"
   ]
  },
  {
   "cell_type": "code",
   "execution_count": null,
   "metadata": {
    "colab": {},
    "colab_type": "code",
    "id": "qbKMFkeikxjS"
   },
   "outputs": [],
   "source": [
    "sample_down_fps(video_directory + 'Test/clip1.mp4', 0.41)"
   ]
  },
  {
   "cell_type": "code",
   "execution_count": null,
   "metadata": {
    "colab": {},
    "colab_type": "code",
    "id": "T1-WJVR_lCA8"
   },
   "outputs": [],
   "source": [
    "sample_up_fps(video_directory + 'clip_d.avi', 3)"
   ]
  }
 ],
 "metadata": {
  "colab": {
   "name": "Generate.ipynb",
   "provenance": []
  },
  "kernelspec": {
   "display_name": "Python 3",
   "language": "python",
   "name": "python3"
  },
  "language_info": {
   "codemirror_mode": {
    "name": "ipython",
    "version": 3
   },
   "file_extension": ".py",
   "mimetype": "text/x-python",
   "name": "python",
   "nbconvert_exporter": "python",
   "pygments_lexer": "ipython3",
   "version": "3.7.3"
  }
 },
 "nbformat": 4,
 "nbformat_minor": 1
}
